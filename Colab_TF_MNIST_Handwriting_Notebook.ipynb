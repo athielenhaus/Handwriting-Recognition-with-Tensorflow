{
  "cells": [
    {
      "cell_type": "markdown",
      "metadata": {
        "id": "qQJiPQjVeUA5"
      },
      "source": [
        "# Imports"
      ]
    },
    {
      "cell_type": "code",
      "execution_count": 1,
      "metadata": {
        "id": "ruCmr4aXeUA7"
      },
      "outputs": [],
      "source": [
        "from numpy.random import seed\n",
        "seed(888)\n",
        "import tensorflow as tf\n",
        "tf.random.set_seed(888)\n",
        "import os\n",
        "import numpy as np\n",
        "from time import strftime\n",
        "from datetime import date\n",
        "from PIL import Image\n",
        "from sklearn.model_selection import train_test_split"
      ]
    },
    {
      "cell_type": "markdown",
      "metadata": {
        "id": "WsBfVIAVeUA9"
      },
      "source": [
        "# Constants"
      ]
    },
    {
      "cell_type": "code",
      "source": [
        "from google.colab import files\n",
        "\n",
        "uploaded = files.upload()"
      ],
      "metadata": {
        "colab": {
          "base_uri": "https://localhost:8080/",
          "height": 212
        },
        "id": "Mvo6ZPmXmoGl",
        "outputId": "25344794-38ab-46f1-ed81-17c270f0733e"
      },
      "execution_count": 2,
      "outputs": [
        {
          "output_type": "display_data",
          "data": {
            "text/plain": [
              "<IPython.core.display.HTML object>"
            ],
            "text/html": [
              "\n",
              "     <input type=\"file\" id=\"files-d3307776-b1bd-4365-a16a-be891bb30626\" name=\"files[]\" multiple disabled\n",
              "        style=\"border:none\" />\n",
              "     <output id=\"result-d3307776-b1bd-4365-a16a-be891bb30626\">\n",
              "      Upload widget is only available when the cell has been executed in the\n",
              "      current browser session. Please rerun this cell to enable.\n",
              "      </output>\n",
              "      <script>// Copyright 2017 Google LLC\n",
              "//\n",
              "// Licensed under the Apache License, Version 2.0 (the \"License\");\n",
              "// you may not use this file except in compliance with the License.\n",
              "// You may obtain a copy of the License at\n",
              "//\n",
              "//      http://www.apache.org/licenses/LICENSE-2.0\n",
              "//\n",
              "// Unless required by applicable law or agreed to in writing, software\n",
              "// distributed under the License is distributed on an \"AS IS\" BASIS,\n",
              "// WITHOUT WARRANTIES OR CONDITIONS OF ANY KIND, either express or implied.\n",
              "// See the License for the specific language governing permissions and\n",
              "// limitations under the License.\n",
              "\n",
              "/**\n",
              " * @fileoverview Helpers for google.colab Python module.\n",
              " */\n",
              "(function(scope) {\n",
              "function span(text, styleAttributes = {}) {\n",
              "  const element = document.createElement('span');\n",
              "  element.textContent = text;\n",
              "  for (const key of Object.keys(styleAttributes)) {\n",
              "    element.style[key] = styleAttributes[key];\n",
              "  }\n",
              "  return element;\n",
              "}\n",
              "\n",
              "// Max number of bytes which will be uploaded at a time.\n",
              "const MAX_PAYLOAD_SIZE = 100 * 1024;\n",
              "\n",
              "function _uploadFiles(inputId, outputId) {\n",
              "  const steps = uploadFilesStep(inputId, outputId);\n",
              "  const outputElement = document.getElementById(outputId);\n",
              "  // Cache steps on the outputElement to make it available for the next call\n",
              "  // to uploadFilesContinue from Python.\n",
              "  outputElement.steps = steps;\n",
              "\n",
              "  return _uploadFilesContinue(outputId);\n",
              "}\n",
              "\n",
              "// This is roughly an async generator (not supported in the browser yet),\n",
              "// where there are multiple asynchronous steps and the Python side is going\n",
              "// to poll for completion of each step.\n",
              "// This uses a Promise to block the python side on completion of each step,\n",
              "// then passes the result of the previous step as the input to the next step.\n",
              "function _uploadFilesContinue(outputId) {\n",
              "  const outputElement = document.getElementById(outputId);\n",
              "  const steps = outputElement.steps;\n",
              "\n",
              "  const next = steps.next(outputElement.lastPromiseValue);\n",
              "  return Promise.resolve(next.value.promise).then((value) => {\n",
              "    // Cache the last promise value to make it available to the next\n",
              "    // step of the generator.\n",
              "    outputElement.lastPromiseValue = value;\n",
              "    return next.value.response;\n",
              "  });\n",
              "}\n",
              "\n",
              "/**\n",
              " * Generator function which is called between each async step of the upload\n",
              " * process.\n",
              " * @param {string} inputId Element ID of the input file picker element.\n",
              " * @param {string} outputId Element ID of the output display.\n",
              " * @return {!Iterable<!Object>} Iterable of next steps.\n",
              " */\n",
              "function* uploadFilesStep(inputId, outputId) {\n",
              "  const inputElement = document.getElementById(inputId);\n",
              "  inputElement.disabled = false;\n",
              "\n",
              "  const outputElement = document.getElementById(outputId);\n",
              "  outputElement.innerHTML = '';\n",
              "\n",
              "  const pickedPromise = new Promise((resolve) => {\n",
              "    inputElement.addEventListener('change', (e) => {\n",
              "      resolve(e.target.files);\n",
              "    });\n",
              "  });\n",
              "\n",
              "  const cancel = document.createElement('button');\n",
              "  inputElement.parentElement.appendChild(cancel);\n",
              "  cancel.textContent = 'Cancel upload';\n",
              "  const cancelPromise = new Promise((resolve) => {\n",
              "    cancel.onclick = () => {\n",
              "      resolve(null);\n",
              "    };\n",
              "  });\n",
              "\n",
              "  // Wait for the user to pick the files.\n",
              "  const files = yield {\n",
              "    promise: Promise.race([pickedPromise, cancelPromise]),\n",
              "    response: {\n",
              "      action: 'starting',\n",
              "    }\n",
              "  };\n",
              "\n",
              "  cancel.remove();\n",
              "\n",
              "  // Disable the input element since further picks are not allowed.\n",
              "  inputElement.disabled = true;\n",
              "\n",
              "  if (!files) {\n",
              "    return {\n",
              "      response: {\n",
              "        action: 'complete',\n",
              "      }\n",
              "    };\n",
              "  }\n",
              "\n",
              "  for (const file of files) {\n",
              "    const li = document.createElement('li');\n",
              "    li.append(span(file.name, {fontWeight: 'bold'}));\n",
              "    li.append(span(\n",
              "        `(${file.type || 'n/a'}) - ${file.size} bytes, ` +\n",
              "        `last modified: ${\n",
              "            file.lastModifiedDate ? file.lastModifiedDate.toLocaleDateString() :\n",
              "                                    'n/a'} - `));\n",
              "    const percent = span('0% done');\n",
              "    li.appendChild(percent);\n",
              "\n",
              "    outputElement.appendChild(li);\n",
              "\n",
              "    const fileDataPromise = new Promise((resolve) => {\n",
              "      const reader = new FileReader();\n",
              "      reader.onload = (e) => {\n",
              "        resolve(e.target.result);\n",
              "      };\n",
              "      reader.readAsArrayBuffer(file);\n",
              "    });\n",
              "    // Wait for the data to be ready.\n",
              "    let fileData = yield {\n",
              "      promise: fileDataPromise,\n",
              "      response: {\n",
              "        action: 'continue',\n",
              "      }\n",
              "    };\n",
              "\n",
              "    // Use a chunked sending to avoid message size limits. See b/62115660.\n",
              "    let position = 0;\n",
              "    do {\n",
              "      const length = Math.min(fileData.byteLength - position, MAX_PAYLOAD_SIZE);\n",
              "      const chunk = new Uint8Array(fileData, position, length);\n",
              "      position += length;\n",
              "\n",
              "      const base64 = btoa(String.fromCharCode.apply(null, chunk));\n",
              "      yield {\n",
              "        response: {\n",
              "          action: 'append',\n",
              "          file: file.name,\n",
              "          data: base64,\n",
              "        },\n",
              "      };\n",
              "\n",
              "      let percentDone = fileData.byteLength === 0 ?\n",
              "          100 :\n",
              "          Math.round((position / fileData.byteLength) * 100);\n",
              "      percent.textContent = `${percentDone}% done`;\n",
              "\n",
              "    } while (position < fileData.byteLength);\n",
              "  }\n",
              "\n",
              "  // All done.\n",
              "  yield {\n",
              "    response: {\n",
              "      action: 'complete',\n",
              "    }\n",
              "  };\n",
              "}\n",
              "\n",
              "scope.google = scope.google || {};\n",
              "scope.google.colab = scope.google.colab || {};\n",
              "scope.google.colab._files = {\n",
              "  _uploadFiles,\n",
              "  _uploadFilesContinue,\n",
              "};\n",
              "})(self);\n",
              "</script> "
            ]
          },
          "metadata": {}
        },
        {
          "output_type": "stream",
          "name": "stdout",
          "text": [
            "Saving digit_xtest.csv to digit_xtest.csv\n",
            "Saving digit_xtrain.csv to digit_xtrain.csv\n",
            "Saving digit_ytest.csv to digit_ytest.csv\n",
            "Saving digit_ytrain.csv to digit_ytrain.csv\n",
            "Saving test_img.png to test_img.png\n"
          ]
        }
      ]
    },
    {
      "cell_type": "code",
      "source": [
        "import pandas as pd\n",
        "df = pd.read_csv('sample_data/mnist_train_small.csv')\n",
        "len(df)"
      ],
      "metadata": {
        "colab": {
          "base_uri": "https://localhost:8080/"
        },
        "id": "RDBprpykfLvw",
        "outputId": "d537f90f-8286-4bd7-fbef-463bf4f1a839"
      },
      "execution_count": 8,
      "outputs": [
        {
          "output_type": "execute_result",
          "data": {
            "text/plain": [
              "19999"
            ]
          },
          "metadata": {},
          "execution_count": 8
        }
      ]
    },
    {
      "cell_type": "code",
      "execution_count": 5,
      "metadata": {
        "id": "24yA4tYUeUA9"
      },
      "outputs": [],
      "source": [
        "# define constants\n",
        "X_TRAIN_PATH = 'digit_xtrain.csv'\n",
        "X_TEST_PATH = 'digit_xtest.csv'\n",
        "Y_TRAIN_PATH = 'digit_ytrain.csv'\n",
        "Y_TEST_PATH = 'digit_ytest.csv'\n",
        "\n",
        "LOGGING_PATH = 'tensorboard_mnist_digit_logs/'\n",
        "\n",
        "NR_CLASSES = 10\n",
        "VALIDATION_SIZE = 10000\n",
        "IMAGE_WIDTH = 28\n",
        "IMAGE_HEIGHT = 28\n",
        "CHANNELS = 1\n",
        "TOTAL_INPUTS = IMAGE_WIDTH*IMAGE_HEIGHT*CHANNELS"
      ]
    },
    {
      "cell_type": "markdown",
      "metadata": {
        "id": "N4kcnTGgeUA9"
      },
      "source": [
        "# Get the Data"
      ]
    },
    {
      "cell_type": "code",
      "execution_count": 6,
      "metadata": {
        "colab": {
          "base_uri": "https://localhost:8080/"
        },
        "id": "7ocwPagweUA9",
        "outputId": "b53c1314-8a61-49cb-ef34-7a0c18628ace"
      },
      "outputs": [
        {
          "output_type": "stream",
          "name": "stdout",
          "text": [
            "CPU times: user 1.83 s, sys: 217 ms, total: 2.05 s\n",
            "Wall time: 2.08 s\n"
          ]
        }
      ],
      "source": [
        "%%time\n",
        "\n",
        "def import_data():\n",
        "    y_train_all = np.loadtxt(Y_TRAIN_PATH, delimiter=',', dtype=int)\n",
        "    y_test = np.loadtxt(Y_TEST_PATH, delimiter=',', dtype=int)\n",
        "    x_train_all = np.loadtxt(X_TRAIN_PATH, delimiter=',', dtype=int)\n",
        "    x_test = np.loadtxt(X_TEST_PATH, delimiter=',', dtype=int)\n",
        "    return y_train_all, y_test, x_train_all, x_test\n",
        "\n",
        "y_train_all, y_test, x_train_all, x_test = import_data()"
      ]
    },
    {
      "cell_type": "code",
      "execution_count": 7,
      "metadata": {
        "colab": {
          "base_uri": "https://localhost:8080/"
        },
        "id": "JBDHHkHveUA-",
        "outputId": "e43d5460-95e0-46a3-ece6-3b8a16bcef31"
      },
      "outputs": [
        {
          "output_type": "execute_result",
          "data": {
            "text/plain": [
              "(60000,)"
            ]
          },
          "metadata": {},
          "execution_count": 7
        }
      ],
      "source": [
        "y_train_all.shape"
      ]
    },
    {
      "cell_type": "markdown",
      "metadata": {
        "id": "FiiARfLQeUA-"
      },
      "source": [
        "# EDA"
      ]
    },
    {
      "cell_type": "code",
      "execution_count": 8,
      "metadata": {
        "colab": {
          "base_uri": "https://localhost:8080/"
        },
        "id": "TdCVl0akeUA-",
        "outputId": "b88840e7-22eb-4291-c1b1-214c8348a991"
      },
      "outputs": [
        {
          "output_type": "execute_result",
          "data": {
            "text/plain": [
              "(60000, 784)"
            ]
          },
          "metadata": {},
          "execution_count": 8
        }
      ],
      "source": [
        "x_train_all.shape"
      ]
    },
    {
      "cell_type": "code",
      "execution_count": 9,
      "metadata": {
        "colab": {
          "base_uri": "https://localhost:8080/"
        },
        "id": "J_fiyCCNeUA-",
        "outputId": "368488c1-57f3-43c5-f56f-c6ad51ca76c9"
      },
      "outputs": [
        {
          "output_type": "execute_result",
          "data": {
            "text/plain": [
              "array([  0,   0,   0,   0,   0,   0,   0,   0,   0,   0,   0,   0,   0,\n",
              "         0,   0,   0,   0,   0,   0,   0,   0,   0,   0,   0,   0,   0,\n",
              "         0,   0,   0,   0,   0,   0,   0,   0,   0,   0,   0,   0,   0,\n",
              "         0,   0,   0,   0,   0,   0,   0,   0,   0,   0,   0,   0,   0,\n",
              "         0,   0,   0,   0,   0,   0,   0,   0,   0,   0,   0,   0,   0,\n",
              "         0,   0,   0,   0,   0,   0,   0,   0,   0,   0,   0,   0,   0,\n",
              "         0,   0,   0,   0,   0,   0,   0,   0,   0,   0,   0,   0,   0,\n",
              "         0,   0,   0,   0,   0,   0,   0,   0,   0,   0,   0,   0,   0,\n",
              "         0,   0,   0,   0,   0,   0,   0,   0,   0,   0,   0,   0,   0,\n",
              "         0,   0,   0,   0,   0,   0,   0,   0,   0,   0,   0,   0,   0,\n",
              "         0,   0,   0,   0,   0,   0,   0,   0,   0,   0,   0,   0,   0,\n",
              "         0,   0,   0,   0,   0,   0,   0,   0,   0,   3,  18,  18,  18,\n",
              "       126, 136, 175,  26, 166, 255, 247, 127,   0,   0,   0,   0,   0,\n",
              "         0,   0,   0,   0,   0,   0,   0,  30,  36,  94, 154, 170, 253,\n",
              "       253, 253, 253, 253, 225, 172, 253, 242, 195,  64,   0,   0,   0,\n",
              "         0,   0,   0,   0,   0,   0,   0,   0,  49, 238, 253, 253, 253,\n",
              "       253, 253, 253, 253, 253, 251,  93,  82,  82,  56,  39,   0,   0,\n",
              "         0,   0,   0,   0,   0,   0,   0,   0,   0,   0,  18, 219, 253,\n",
              "       253, 253, 253, 253, 198, 182, 247, 241,   0,   0,   0,   0,   0,\n",
              "         0,   0,   0,   0,   0,   0,   0,   0,   0,   0,   0,   0,   0,\n",
              "        80, 156, 107, 253, 253, 205,  11,   0,  43, 154,   0,   0,   0,\n",
              "         0,   0,   0,   0,   0,   0,   0,   0,   0,   0,   0,   0,   0,\n",
              "         0,   0,   0,  14,   1, 154, 253,  90,   0,   0,   0,   0,   0,\n",
              "         0,   0,   0,   0,   0,   0,   0,   0,   0,   0,   0,   0,   0,\n",
              "         0,   0,   0,   0,   0,   0,   0, 139, 253, 190,   2,   0,   0,\n",
              "         0,   0,   0,   0,   0,   0,   0,   0,   0,   0,   0,   0,   0,\n",
              "         0,   0,   0,   0,   0,   0,   0,   0,   0,  11, 190, 253,  70,\n",
              "         0,   0,   0,   0,   0,   0,   0,   0,   0,   0,   0,   0,   0,\n",
              "         0,   0,   0,   0,   0,   0,   0,   0,   0,   0,   0,   0,  35,\n",
              "       241, 225, 160, 108,   1,   0,   0,   0,   0,   0,   0,   0,   0,\n",
              "         0,   0,   0,   0,   0,   0,   0,   0,   0,   0,   0,   0,   0,\n",
              "         0,   0,  81, 240, 253, 253, 119,  25,   0,   0,   0,   0,   0,\n",
              "         0,   0,   0,   0,   0,   0,   0,   0,   0,   0,   0,   0,   0,\n",
              "         0,   0,   0,   0,   0,  45, 186, 253, 253, 150,  27,   0,   0,\n",
              "         0,   0,   0,   0,   0,   0,   0,   0,   0,   0,   0,   0,   0,\n",
              "         0,   0,   0,   0,   0,   0,   0,   0,  16,  93, 252, 253, 187,\n",
              "         0,   0,   0,   0,   0,   0,   0,   0,   0,   0,   0,   0,   0,\n",
              "         0,   0,   0,   0,   0,   0,   0,   0,   0,   0,   0,   0, 249,\n",
              "       253, 249,  64,   0,   0,   0,   0,   0,   0,   0,   0,   0,   0,\n",
              "         0,   0,   0,   0,   0,   0,   0,   0,   0,   0,   0,  46, 130,\n",
              "       183, 253, 253, 207,   2,   0,   0,   0,   0,   0,   0,   0,   0,\n",
              "         0,   0,   0,   0,   0,   0,   0,   0,   0,   0,   0,  39, 148,\n",
              "       229, 253, 253, 253, 250, 182,   0,   0,   0,   0,   0,   0,   0,\n",
              "         0,   0,   0,   0,   0,   0,   0,   0,   0,   0,   0,  24, 114,\n",
              "       221, 253, 253, 253, 253, 201,  78,   0,   0,   0,   0,   0,   0,\n",
              "         0,   0,   0,   0,   0,   0,   0,   0,   0,   0,   0,  23,  66,\n",
              "       213, 253, 253, 253, 253, 198,  81,   2,   0,   0,   0,   0,   0,\n",
              "         0,   0,   0,   0,   0,   0,   0,   0,   0,   0,   0,  18, 171,\n",
              "       219, 253, 253, 253, 253, 195,  80,   9,   0,   0,   0,   0,   0,\n",
              "         0,   0,   0,   0,   0,   0,   0,   0,   0,   0,   0,  55, 172,\n",
              "       226, 253, 253, 253, 253, 244, 133,  11,   0,   0,   0,   0,   0,\n",
              "         0,   0,   0,   0,   0,   0,   0,   0,   0,   0,   0,   0,   0,\n",
              "       136, 253, 253, 253, 212, 135, 132,  16,   0,   0,   0,   0,   0,\n",
              "         0,   0,   0,   0,   0,   0,   0,   0,   0,   0,   0,   0,   0,\n",
              "         0,   0,   0,   0,   0,   0,   0,   0,   0,   0,   0,   0,   0,\n",
              "         0,   0,   0,   0,   0,   0,   0,   0,   0,   0,   0,   0,   0,\n",
              "         0,   0,   0,   0,   0,   0,   0,   0,   0,   0,   0,   0,   0,\n",
              "         0,   0,   0,   0,   0,   0,   0,   0,   0,   0,   0,   0,   0,\n",
              "         0,   0,   0,   0,   0,   0,   0,   0,   0,   0,   0,   0,   0,\n",
              "         0,   0,   0,   0,   0,   0,   0,   0,   0,   0,   0,   0,   0,\n",
              "         0,   0,   0,   0])"
            ]
          },
          "metadata": {},
          "execution_count": 9
        }
      ],
      "source": [
        "x_train_all[0]"
      ]
    },
    {
      "cell_type": "code",
      "execution_count": 10,
      "metadata": {
        "id": "_pnR8MmxeUA_"
      },
      "outputs": [],
      "source": [
        "# save sample for testing\n",
        "# np.savetxt(fname='x_test0_ylabel7.txt', X=[x_test[0]], delimiter= ', ', fmt='%1.2f')"
      ]
    },
    {
      "cell_type": "code",
      "execution_count": 11,
      "metadata": {
        "colab": {
          "base_uri": "https://localhost:8080/"
        },
        "id": "mUE_O2q7eUA_",
        "outputId": "2fb1c008-c95f-4781-de81-e7a447ccb0cd"
      },
      "outputs": [
        {
          "output_type": "execute_result",
          "data": {
            "text/plain": [
              "(60000,)"
            ]
          },
          "metadata": {},
          "execution_count": 11
        }
      ],
      "source": [
        "y_train_all.shape"
      ]
    },
    {
      "cell_type": "code",
      "execution_count": 12,
      "metadata": {
        "colab": {
          "base_uri": "https://localhost:8080/"
        },
        "id": "eS0h3PWVeUA_",
        "outputId": "e8425f0a-b2a9-4289-f9ca-c06d9521d05b"
      },
      "outputs": [
        {
          "output_type": "execute_result",
          "data": {
            "text/plain": [
              "(10000, 784)"
            ]
          },
          "metadata": {},
          "execution_count": 12
        }
      ],
      "source": [
        "x_test.shape"
      ]
    },
    {
      "cell_type": "code",
      "execution_count": 13,
      "metadata": {
        "colab": {
          "base_uri": "https://localhost:8080/"
        },
        "id": "e9Yf1wlBeUA_",
        "outputId": "bc306424-91e3-4c32-a4cd-8f484457b851"
      },
      "outputs": [
        {
          "output_type": "execute_result",
          "data": {
            "text/plain": [
              "array([5, 0, 4, 1, 9])"
            ]
          },
          "metadata": {},
          "execution_count": 13
        }
      ],
      "source": [
        "y_train_all[:5]"
      ]
    },
    {
      "cell_type": "markdown",
      "metadata": {
        "id": "TghBz_cNeUA_"
      },
      "source": [
        "# Data Preprocessing"
      ]
    },
    {
      "cell_type": "code",
      "execution_count": 14,
      "metadata": {
        "id": "uIR1HAUUeUA_"
      },
      "outputs": [],
      "source": [
        "def copy_x():\n",
        "    x_tr = x_train_all.copy()\n",
        "    x_te = x_test.copy()\n",
        "    return x_tr, x_te\n",
        "\n",
        "def copy_y():\n",
        "    y_tr = y_train_all.copy()\n",
        "    y_te = y_test.copy()\n",
        "    return y_tr, y_te\n"
      ]
    },
    {
      "cell_type": "code",
      "execution_count": 15,
      "metadata": {
        "id": "Vej_ZYlseUA_"
      },
      "outputs": [],
      "source": [
        "# Re-scale\n",
        "x_train_all, x_test = copy_x()\n",
        "x_train_all, x_test = x_train_all / 255.0, x_test / 255.0"
      ]
    },
    {
      "cell_type": "markdown",
      "metadata": {
        "id": "BVk27YlOeUA_"
      },
      "source": [
        "#### Convert target values to one-hot encoding\n",
        "\n",
        "manual one-hot-encoding: we create an identity matrix where size (10 x 10) is equal to the number of classes (1 for each digit, i.e. 10). We then\n",
        "match each y-value with the corresponding row from the ID matrix, i.e. the value '7' will result in row nr. 7 from the ID matrix --> it will have zeros in every column except the 7th, where the value will be 1.\n"
      ]
    },
    {
      "cell_type": "code",
      "execution_count": 16,
      "metadata": {
        "colab": {
          "base_uri": "https://localhost:8080/"
        },
        "id": "bqt3zX8SeUA_",
        "outputId": "1adc0771-34d0-4a2d-c87a-6e7f35b857e6"
      },
      "outputs": [
        {
          "output_type": "stream",
          "name": "stdout",
          "text": [
            "(60000, 10)\n",
            "(10000, 10)\n"
          ]
        }
      ],
      "source": [
        "y_train_all, y_test = copy_y()\n",
        "\n",
        "y_train_all = np.eye(NR_CLASSES)[y_train_all]\n",
        "y_test = np.eye(NR_CLASSES)[y_test]\n",
        "\n",
        "print(y_train_all.shape)\n",
        "print(y_test.shape)"
      ]
    },
    {
      "cell_type": "markdown",
      "metadata": {
        "id": "-ktNKLDfeUBA"
      },
      "source": [
        "### Create validation dataset from training data"
      ]
    },
    {
      "cell_type": "code",
      "execution_count": 17,
      "metadata": {
        "colab": {
          "base_uri": "https://localhost:8080/"
        },
        "id": "nomwZAyTeUBA",
        "outputId": "97445bec-f692-4a7e-957a-ea27526de30c"
      },
      "outputs": [
        {
          "output_type": "stream",
          "name": "stdout",
          "text": [
            "(50000, 784)\n",
            "(10000, 784)\n"
          ]
        }
      ],
      "source": [
        "X_train, X_val, y_train, y_val = train_test_split(x_train_all,\n",
        "                                                  y_train_all,\n",
        "                                                  test_size=1/6,\n",
        "                                                  random_state=42)\n",
        "\n",
        "print(X_train.shape)\n",
        "print(X_val.shape)"
      ]
    },
    {
      "cell_type": "markdown",
      "metadata": {
        "collapsed": true,
        "jupyter": {
          "outputs_hidden": true
        },
        "id": "AevEV8_3eUBA"
      },
      "source": [
        "# Setup Tensorflow Graph"
      ]
    },
    {
      "cell_type": "markdown",
      "metadata": {
        "id": "Lt42VdGDeUBA"
      },
      "source": [
        "### Neural Network Architecture"
      ]
    },
    {
      "cell_type": "code",
      "execution_count": 18,
      "metadata": {
        "id": "0lVNjFvseUBA"
      },
      "outputs": [],
      "source": [
        "from tensorflow.keras import Sequential\n",
        "from tensorflow.keras.layers import Dense, Dropout\n",
        "\n",
        "# define hyperparameters\n",
        "nr_epochs = 50\n",
        "learning_rate = 1e-3\n",
        "\n",
        "n_hidden1 = 512\n",
        "n_hidden2 = 64\n",
        "\n",
        "\n",
        "# setup model\n",
        "model = Sequential([\n",
        "    # First hidden layer with 512 units and ReLU activation\n",
        "    Dense(n_hidden1, activation='relu', input_shape=(TOTAL_INPUTS,), name='layer_1'),\n",
        "\n",
        "    # Dropout layer with 20% drop rate\n",
        "    Dropout(rate=0.2, name='dropout_layer'),\n",
        "\n",
        "    # Second hidden layer with 64 units and ReLU activation\n",
        "    Dense(n_hidden2, activation='relu', name='layer_2'),\n",
        "\n",
        "    # Output layer with NR_CLASSES units and softmax activation\n",
        "    Dense(NR_CLASSES, activation='softmax', name='out')\n",
        "])"
      ]
    },
    {
      "cell_type": "markdown",
      "metadata": {
        "id": "kwY3HYTteUBA"
      },
      "source": [
        "# Tensorboard Setup"
      ]
    },
    {
      "cell_type": "code",
      "execution_count": 19,
      "metadata": {
        "id": "woGqXPrZeUBA"
      },
      "outputs": [],
      "source": [
        "model_name = f'{n_hidden1}-DO-{n_hidden2} LR{learning_rate} E{nr_epochs}'\n",
        "folder_name = f'{model_name} at {strftime(\"%H_%M\")}'\n",
        "directory = os.path.join(LOGGING_PATH, folder_name)\n",
        "abs_path = os.path.abspath(directory)\n",
        "os.makedirs(abs_path, exist_ok=True)"
      ]
    },
    {
      "cell_type": "code",
      "source": [
        "abs_path"
      ],
      "metadata": {
        "colab": {
          "base_uri": "https://localhost:8080/",
          "height": 36
        },
        "id": "5A-KcIC3x7gJ",
        "outputId": "a18bb7a8-07cb-465b-8f03-bf59b33f1f0d"
      },
      "execution_count": 27,
      "outputs": [
        {
          "output_type": "execute_result",
          "data": {
            "text/plain": [
              "'/content/tensorboard_mnist_digit_logs/512-DO-64 LR0.001 E50 at 09_41'"
            ],
            "application/vnd.google.colaboratory.intrinsic+json": {
              "type": "string"
            }
          },
          "metadata": {},
          "execution_count": 27
        }
      ]
    },
    {
      "cell_type": "code",
      "execution_count": 20,
      "metadata": {
        "id": "aHwDVM9peUBA"
      },
      "outputs": [],
      "source": [
        "model.compile(optimizer=tf.keras.optimizers.Adam(learning_rate),\n",
        "              loss='categorical_crossentropy',\n",
        "              metrics=['accuracy'])\n"
      ]
    },
    {
      "cell_type": "code",
      "execution_count": 21,
      "metadata": {
        "colab": {
          "base_uri": "https://localhost:8080/",
          "height": 533
        },
        "id": "cQ6uSAoQeUBA",
        "outputId": "89d8936e-aa72-4be8-9423-8e6d32dca786"
      },
      "outputs": [
        {
          "output_type": "execute_result",
          "data": {
            "image/png": "[encoded data removed]",
            "text/plain": [
              "<IPython.core.display.Image object>"
            ]
          },
          "metadata": {},
          "execution_count": 21
        }
      ],
      "source": [
        "from keras.utils import plot_model\n",
        "tf.keras.utils.plot_model(model, show_shapes=True)"
      ]
    },
    {
      "cell_type": "markdown",
      "metadata": {
        "id": "2tfbBSmWeUBA"
      },
      "source": [
        "# Run Session"
      ]
    },
    {
      "cell_type": "code",
      "execution_count": 22,
      "metadata": {
        "scrolled": true,
        "id": "AkwwddB_eUBA"
      },
      "outputs": [],
      "source": [
        "from tensorflow.keras.callbacks import TensorBoard\n",
        "\n",
        "# Define TensorBoard callback\n",
        "tensorboard_callback = TensorBoard(log_dir=abs_path,\n",
        "                                   write_graph= True,\n",
        "                                   write_images= True,\n",
        "                                   histogram_freq=1)\n"
      ]
    },
    {
      "cell_type": "markdown",
      "metadata": {
        "id": "ulA59c2ReUBB"
      },
      "source": [
        "### Train Model"
      ]
    },
    {
      "cell_type": "code",
      "execution_count": 24,
      "metadata": {
        "colab": {
          "base_uri": "https://localhost:8080/"
        },
        "id": "utyYNuALeUBB",
        "outputId": "9c618011-50fb-47ba-8cde-e55a8542adb5"
      },
      "outputs": [
        {
          "output_type": "stream",
          "name": "stdout",
          "text": [
            "Epoch 1/50\n",
            "50/50 [==============================] - 1s 19ms/step - loss: 0.5477 - accuracy: 0.8499 - val_loss: 0.2457 - val_accuracy: 0.9271\n",
            "Epoch 2/50\n",
            "50/50 [==============================] - 1s 10ms/step - loss: 0.2207 - accuracy: 0.9357 - val_loss: 0.1722 - val_accuracy: 0.9509\n",
            "Epoch 3/50\n",
            "50/50 [==============================] - 1s 11ms/step - loss: 0.1593 - accuracy: 0.9536 - val_loss: 0.1334 - val_accuracy: 0.9610\n",
            "Epoch 4/50\n",
            "50/50 [==============================] - 1s 11ms/step - loss: 0.1264 - accuracy: 0.9640 - val_loss: 0.1104 - val_accuracy: 0.9686\n",
            "Epoch 5/50\n",
            "50/50 [==============================] - 1s 10ms/step - loss: 0.1017 - accuracy: 0.9705 - val_loss: 0.0995 - val_accuracy: 0.9714\n",
            "Epoch 6/50\n",
            "50/50 [==============================] - 1s 12ms/step - loss: 0.0872 - accuracy: 0.9746 - val_loss: 0.0899 - val_accuracy: 0.9730\n",
            "Epoch 7/50\n",
            "50/50 [==============================] - 1s 16ms/step - loss: 0.0725 - accuracy: 0.9789 - val_loss: 0.0817 - val_accuracy: 0.9742\n",
            "Epoch 8/50\n",
            "50/50 [==============================] - 1s 18ms/step - loss: 0.0615 - accuracy: 0.9821 - val_loss: 0.0769 - val_accuracy: 0.9762\n",
            "Epoch 9/50\n",
            "50/50 [==============================] - 1s 14ms/step - loss: 0.0549 - accuracy: 0.9837 - val_loss: 0.0727 - val_accuracy: 0.9779\n",
            "Epoch 10/50\n",
            "50/50 [==============================] - 1s 11ms/step - loss: 0.0474 - accuracy: 0.9860 - val_loss: 0.0689 - val_accuracy: 0.9793\n",
            "Epoch 11/50\n",
            "50/50 [==============================] - 1s 11ms/step - loss: 0.0399 - accuracy: 0.9886 - val_loss: 0.0657 - val_accuracy: 0.9809\n",
            "Epoch 12/50\n",
            "50/50 [==============================] - 1s 11ms/step - loss: 0.0369 - accuracy: 0.9893 - val_loss: 0.0645 - val_accuracy: 0.9798\n",
            "Epoch 13/50\n",
            "50/50 [==============================] - 1s 11ms/step - loss: 0.0305 - accuracy: 0.9913 - val_loss: 0.0632 - val_accuracy: 0.9804\n",
            "Epoch 14/50\n",
            "50/50 [==============================] - 1s 11ms/step - loss: 0.0282 - accuracy: 0.9920 - val_loss: 0.0624 - val_accuracy: 0.9805\n",
            "Epoch 15/50\n",
            "50/50 [==============================] - 1s 11ms/step - loss: 0.0251 - accuracy: 0.9933 - val_loss: 0.0644 - val_accuracy: 0.9804\n",
            "Epoch 16/50\n",
            "50/50 [==============================] - 1s 11ms/step - loss: 0.0224 - accuracy: 0.9936 - val_loss: 0.0613 - val_accuracy: 0.9818\n",
            "Epoch 17/50\n",
            "50/50 [==============================] - 1s 11ms/step - loss: 0.0198 - accuracy: 0.9947 - val_loss: 0.0630 - val_accuracy: 0.9811\n",
            "Epoch 18/50\n",
            "50/50 [==============================] - 0s 10ms/step - loss: 0.0189 - accuracy: 0.9948 - val_loss: 0.0632 - val_accuracy: 0.9812\n",
            "Epoch 19/50\n",
            "50/50 [==============================] - 1s 11ms/step - loss: 0.0163 - accuracy: 0.9955 - val_loss: 0.0601 - val_accuracy: 0.9828\n",
            "Epoch 20/50\n",
            "50/50 [==============================] - 1s 11ms/step - loss: 0.0147 - accuracy: 0.9962 - val_loss: 0.0596 - val_accuracy: 0.9834\n",
            "Epoch 21/50\n",
            "50/50 [==============================] - 1s 11ms/step - loss: 0.0131 - accuracy: 0.9966 - val_loss: 0.0622 - val_accuracy: 0.9827\n",
            "Epoch 22/50\n",
            "50/50 [==============================] - 1s 11ms/step - loss: 0.0123 - accuracy: 0.9969 - val_loss: 0.0622 - val_accuracy: 0.9819\n",
            "Epoch 23/50\n",
            "50/50 [==============================] - 1s 10ms/step - loss: 0.0107 - accuracy: 0.9972 - val_loss: 0.0630 - val_accuracy: 0.9825\n",
            "Epoch 24/50\n",
            "50/50 [==============================] - 1s 10ms/step - loss: 0.0095 - accuracy: 0.9978 - val_loss: 0.0627 - val_accuracy: 0.9827\n",
            "Epoch 25/50\n",
            "50/50 [==============================] - 1s 11ms/step - loss: 0.0097 - accuracy: 0.9973 - val_loss: 0.0621 - val_accuracy: 0.9827\n",
            "Epoch 26/50\n",
            "50/50 [==============================] - 1s 11ms/step - loss: 0.0090 - accuracy: 0.9977 - val_loss: 0.0619 - val_accuracy: 0.9837\n",
            "Epoch 27/50\n",
            "50/50 [==============================] - 1s 11ms/step - loss: 0.0088 - accuracy: 0.9980 - val_loss: 0.0675 - val_accuracy: 0.9830\n",
            "Epoch 28/50\n",
            "50/50 [==============================] - 1s 14ms/step - loss: 0.0086 - accuracy: 0.9978 - val_loss: 0.0662 - val_accuracy: 0.9831\n",
            "Epoch 29/50\n",
            "50/50 [==============================] - 1s 13ms/step - loss: 0.0073 - accuracy: 0.9983 - val_loss: 0.0643 - val_accuracy: 0.9836\n",
            "Epoch 30/50\n",
            "50/50 [==============================] - 1s 15ms/step - loss: 0.0071 - accuracy: 0.9983 - val_loss: 0.0651 - val_accuracy: 0.9833\n",
            "Epoch 31/50\n",
            "50/50 [==============================] - 1s 13ms/step - loss: 0.0061 - accuracy: 0.9986 - val_loss: 0.0643 - val_accuracy: 0.9836\n",
            "Epoch 32/50\n",
            "50/50 [==============================] - 1s 12ms/step - loss: 0.0053 - accuracy: 0.9989 - val_loss: 0.0632 - val_accuracy: 0.9845\n",
            "Epoch 33/50\n",
            "50/50 [==============================] - 1s 10ms/step - loss: 0.0054 - accuracy: 0.9986 - val_loss: 0.0681 - val_accuracy: 0.9834\n",
            "Epoch 34/50\n",
            "50/50 [==============================] - 1s 11ms/step - loss: 0.0049 - accuracy: 0.9991 - val_loss: 0.0707 - val_accuracy: 0.9835\n",
            "Epoch 35/50\n",
            "50/50 [==============================] - 1s 10ms/step - loss: 0.0052 - accuracy: 0.9988 - val_loss: 0.0684 - val_accuracy: 0.9834\n",
            "Epoch 36/50\n",
            "50/50 [==============================] - 1s 11ms/step - loss: 0.0047 - accuracy: 0.9991 - val_loss: 0.0685 - val_accuracy: 0.9835\n",
            "Epoch 37/50\n",
            "50/50 [==============================] - 1s 11ms/step - loss: 0.0048 - accuracy: 0.9989 - val_loss: 0.0669 - val_accuracy: 0.9833\n",
            "Epoch 38/50\n",
            "50/50 [==============================] - 1s 11ms/step - loss: 0.0038 - accuracy: 0.9993 - val_loss: 0.0664 - val_accuracy: 0.9844\n",
            "Epoch 39/50\n",
            "50/50 [==============================] - 1s 11ms/step - loss: 0.0042 - accuracy: 0.9990 - val_loss: 0.0682 - val_accuracy: 0.9838\n",
            "Epoch 40/50\n",
            "50/50 [==============================] - 1s 11ms/step - loss: 0.0047 - accuracy: 0.9988 - val_loss: 0.0692 - val_accuracy: 0.9835\n",
            "Epoch 41/50\n",
            "50/50 [==============================] - 1s 10ms/step - loss: 0.0038 - accuracy: 0.9991 - val_loss: 0.0709 - val_accuracy: 0.9838\n",
            "Epoch 42/50\n",
            "50/50 [==============================] - 1s 11ms/step - loss: 0.0043 - accuracy: 0.9990 - val_loss: 0.0717 - val_accuracy: 0.9835\n",
            "Epoch 43/50\n",
            "50/50 [==============================] - 1s 11ms/step - loss: 0.0035 - accuracy: 0.9994 - val_loss: 0.0680 - val_accuracy: 0.9854\n",
            "Epoch 44/50\n",
            "50/50 [==============================] - 1s 11ms/step - loss: 0.0031 - accuracy: 0.9994 - val_loss: 0.0726 - val_accuracy: 0.9839\n",
            "Epoch 45/50\n",
            "50/50 [==============================] - 1s 10ms/step - loss: 0.0035 - accuracy: 0.9992 - val_loss: 0.0748 - val_accuracy: 0.9838\n",
            "Epoch 46/50\n",
            "50/50 [==============================] - 1s 11ms/step - loss: 0.0041 - accuracy: 0.9988 - val_loss: 0.0720 - val_accuracy: 0.9833\n",
            "Epoch 47/50\n",
            "50/50 [==============================] - 1s 13ms/step - loss: 0.0043 - accuracy: 0.9990 - val_loss: 0.0706 - val_accuracy: 0.9850\n",
            "Epoch 48/50\n",
            "50/50 [==============================] - 1s 12ms/step - loss: 0.0043 - accuracy: 0.9987 - val_loss: 0.0719 - val_accuracy: 0.9844\n",
            "Epoch 49/50\n",
            "50/50 [==============================] - 1s 20ms/step - loss: 0.0039 - accuracy: 0.9989 - val_loss: 0.0732 - val_accuracy: 0.9841\n",
            "Epoch 50/50\n",
            "50/50 [==============================] - 1s 25ms/step - loss: 0.0040 - accuracy: 0.9988 - val_loss: 0.0707 - val_accuracy: 0.9853\n",
            "Done training!\n",
            "CPU times: user 29 s, sys: 4.24 s, total: 33.2 s\n",
            "Wall time: 30.6 s\n"
          ]
        }
      ],
      "source": [
        "%%time\n",
        "\n",
        "# Defining the batch size\n",
        "size_of_batch = 1000\n",
        "\n",
        "# Fit the model using the training data\n",
        "# history = model.fit(\n",
        "model.fit(\n",
        "    X_train, y_train,\n",
        "    batch_size=size_of_batch,\n",
        "    epochs=nr_epochs,\n",
        "    verbose=1,\n",
        "    validation_data=(X_val, y_val),\n",
        "    callbacks=[tensorboard_callback]\n",
        ")\n",
        "\n",
        "print('Done training!')"
      ]
    },
    {
      "cell_type": "code",
      "execution_count": 25,
      "metadata": {
        "id": "uo_vJiH-eUBB"
      },
      "outputs": [],
      "source": [
        "%load_ext tensorboard"
      ]
    },
    {
      "cell_type": "code",
      "execution_count": 31,
      "metadata": {
        "collapsed": true,
        "id": "QQzRnAfaeUBB"
      },
      "outputs": [],
      "source": [
        "#%tensorboard --logdir=\"{abs_path}\"   # path variable needs to be in brackets and quotes (cant get this to work on Colab)"
      ]
    },
    {
      "cell_type": "markdown",
      "metadata": {
        "id": "e2NvzQufeUBB"
      },
      "source": [
        "# Testing and Evaluation"
      ]
    },
    {
      "cell_type": "code",
      "execution_count": 33,
      "metadata": {
        "colab": {
          "base_uri": "https://localhost:8080/",
          "height": 45
        },
        "id": "7MWT3D16eUBB",
        "outputId": "17f3a503-9287-491a-e840-566bffec1ac9"
      },
      "outputs": [
        {
          "output_type": "execute_result",
          "data": {
            "text/plain": [
              "<PIL.PngImagePlugin.PngImageFile image mode=RGBA size=28x28>"
            ],
            "image/png": "[encoded data removed]"
          },
          "metadata": {},
          "execution_count": 33
        }
      ],
      "source": [
        "img = Image.open('test_img.png')\n",
        "img"
      ]
    },
    {
      "cell_type": "code",
      "execution_count": 34,
      "metadata": {
        "colab": {
          "base_uri": "https://localhost:8080/"
        },
        "id": "ZYhqmHFKeUBB",
        "outputId": "71ffb48c-61f5-4988-c555-b51e3d9bb345"
      },
      "outputs": [
        {
          "output_type": "stream",
          "name": "stdout",
          "text": [
            "1/1 [==============================] - 0s 80ms/step\n",
            "Prediction for test image is [2]\n"
          ]
        }
      ],
      "source": [
        "img = Image.open('test_img.png')\n",
        "bw = img.convert('L')\n",
        "img_array = np.invert(bw)\n",
        "test_img = img_array.ravel().reshape(1, -1)\n",
        "prediction = model.predict(test_img)\n",
        "predicted_class = np.argmax(prediction, axis=1)\n",
        "\n",
        "print(f'Prediction for test image is {predicted_class}')"
      ]
    },
    {
      "cell_type": "code",
      "execution_count": 35,
      "metadata": {
        "colab": {
          "base_uri": "https://localhost:8080/"
        },
        "id": "mq4L7CvjeUBB",
        "outputId": "2bbc788a-7897-45d5-f1a2-d8e9875cac94"
      },
      "outputs": [
        {
          "output_type": "stream",
          "name": "stdout",
          "text": [
            "1/1 [==============================] - 0s 38ms/step\n",
            "Prediction for test image is [2]\n"
          ]
        }
      ],
      "source": [
        "img = Image.open('test_img.png')\n",
        "\n",
        "# the following two lines can be useful preprocessing and improve accuracy but may not always be strictly necessary\n",
        "bw = img.convert('L')\n",
        "img_array = np.invert(bw)\n",
        "\n",
        "# required input shape - flatten into 1D array and then reshape into 2D array with one row and as many columns as needed (indicated by -1)\n",
        "# np.ravel() does same thing as: for row in n_dimensional_array, 1_dimensional_array.extend(row)\n",
        "test_img = img_array.ravel().reshape(1, -1)\n",
        "\n",
        "# make prediction\n",
        "prediction = model.predict(test_img)\n",
        "predicted_class = np.argmax(prediction, axis=1)  # argmax returns array column with highest value\n",
        "\n",
        "print(f'Prediction for test image is {predicted_class}')"
      ]
    },
    {
      "cell_type": "code",
      "execution_count": 36,
      "metadata": {
        "colab": {
          "base_uri": "https://localhost:8080/"
        },
        "id": "5e8N3ajgeUBC",
        "outputId": "5c348aa1-4ffc-402d-a8d2-cfe4fdbb08c2"
      },
      "outputs": [
        {
          "output_type": "stream",
          "name": "stdout",
          "text": [
            "313/313 [==============================] - 57s 182ms/step - loss: 0.0746 - accuracy: 0.9819\n",
            "Accuracy on test set is 98.19%\n"
          ]
        }
      ],
      "source": [
        "# test accuracy using test set\n",
        "test_loss, test_accuracy = model.evaluate(x_test, y_test)\n",
        "print(f'Accuracy on test set is {test_accuracy:0.2%}')"
      ]
    },
    {
      "cell_type": "markdown",
      "metadata": {
        "collapsed": true,
        "jupyter": {
          "outputs_hidden": true
        },
        "id": "XXbnOIsueUBC"
      },
      "source": [
        "# Save the model"
      ]
    },
    {
      "cell_type": "code",
      "execution_count": null,
      "metadata": {
        "id": "jTwcwDSeeUBC"
      },
      "outputs": [],
      "source": [
        "# Save the model\n",
        "model.save(f'tf_handwriting_recog_model_{str(date.today())}')"
      ]
    },
    {
      "cell_type": "code",
      "execution_count": null,
      "metadata": {
        "id": "W0gC2GhzeUBD"
      },
      "outputs": [],
      "source": [
        "# Load the model\n",
        "# new_model = tf.keras.models.load_model('tf_handwriting_recog_model_2023-xx-xx')"
      ]
    },
    {
      "cell_type": "code",
      "execution_count": null,
      "metadata": {
        "id": "0xcWMxOdeUBD"
      },
      "outputs": [],
      "source": [
        "# b3.eval(sess)"
      ]
    }
  ],
  "metadata": {
    "kernelspec": {
      "display_name": "Python 3",
      "name": "python3"
    },
    "language_info": {
      "codemirror_mode": {
        "name": "ipython",
        "version": 3
      },
      "file_extension": ".py",
      "mimetype": "text/x-python",
      "name": "python",
      "nbconvert_exporter": "python",
      "pygments_lexer": "ipython3",
      "version": "3.9.17"
    },
    "colab": {
      "provenance": [],
      "gpuType": "T4"
    },
    "accelerator": "GPU"
  },
  "nbformat": 4,
  "nbformat_minor": 0
}