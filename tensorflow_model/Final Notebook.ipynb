{
 "cells": [
  {
   "cell_type": "markdown",
   "metadata": {},
   "source": [
    "# Imports"
   ]
  },
  {
   "cell_type": "code",
   "execution_count": 73,
   "metadata": {},
   "outputs": [],
   "source": [
    "from numpy.random import seed\n",
    "seed(888)\n",
    "import tensorflow as tf\n",
    "tf.random.set_seed(888)\n",
    "import os\n",
    "import numpy as np\n",
    "from time import strftime\n",
    "from datetime import date\n",
    "from PIL import Image\n",
    "from sklearn.model_selection import train_test_split"
   ]
  },
  {
   "cell_type": "markdown",
   "metadata": {},
   "source": [
    "# Constants"
   ]
  },
  {
   "cell_type": "code",
   "execution_count": 27,
   "metadata": {},
   "outputs": [],
   "source": [
    "# define constants\n",
    "X_TRAIN_PATH = 'MNIST/digit_xtrain.csv'\n",
    "X_TEST_PATH = 'MNIST/digit_xtest.csv'\n",
    "Y_TRAIN_PATH = 'MNIST/digit_ytrain.csv'\n",
    "Y_TEST_PATH = 'MNIST/digit_ytest.csv'\n",
    "\n",
    "LOGGING_PATH = 'tensorboard_mnist_digit_logs/'\n",
    "\n",
    "NR_CLASSES = 10\n",
    "VALIDATION_SIZE = 10000\n",
    "IMAGE_WIDTH = 28\n",
    "IMAGE_HEIGHT = 28\n",
    "CHANNELS = 1\n",
    "TOTAL_INPUTS = IMAGE_WIDTH*IMAGE_HEIGHT*CHANNELS"
   ]
  },
  {
   "cell_type": "markdown",
   "metadata": {},
   "source": [
    "# Get the Data"
   ]
  },
  {
   "cell_type": "code",
   "execution_count": 30,
   "metadata": {},
   "outputs": [
    {
     "name": "stdout",
     "output_type": "stream",
     "text": [
      "CPU times: total: 4.8 s\n",
      "Wall time: 5.03 s\n"
     ]
    }
   ],
   "source": [
    "%%time\n",
    "\n",
    "def import_data():\n",
    "    y_train_all = np.loadtxt(Y_TRAIN_PATH, delimiter=',', dtype=int)\n",
    "    y_test = np.loadtxt(Y_TEST_PATH, delimiter=',', dtype=int)\n",
    "    x_train_all = np.loadtxt(X_TRAIN_PATH, delimiter=',', dtype=int)\n",
    "    x_test = np.loadtxt(X_TEST_PATH, delimiter=',', dtype=int)\n",
    "    return y_train_all, y_test, x_train_all, x_test\n",
    "\n",
    "y_train_all, y_test, x_train_all, x_test = import_data()"
   ]
  },
  {
   "cell_type": "code",
   "execution_count": 31,
   "metadata": {},
   "outputs": [
    {
     "data": {
      "text/plain": [
       "(60000,)"
      ]
     },
     "execution_count": 31,
     "metadata": {},
     "output_type": "execute_result"
    }
   ],
   "source": [
    "y_train_all.shape"
   ]
  },
  {
   "cell_type": "markdown",
   "metadata": {},
   "source": [
    "# EDA"
   ]
  },
  {
   "cell_type": "code",
   "execution_count": 32,
   "metadata": {},
   "outputs": [
    {
     "data": {
      "text/plain": [
       "(60000, 784)"
      ]
     },
     "execution_count": 32,
     "metadata": {},
     "output_type": "execute_result"
    }
   ],
   "source": [
    "x_train_all.shape"
   ]
  },
  {
   "cell_type": "code",
   "execution_count": 33,
   "metadata": {},
   "outputs": [
    {
     "data": {
      "text/plain": [
       "array([  0,   0,   0,   0,   0,   0,   0,   0,   0,   0,   0,   0,   0,\n",
       "         0,   0,   0,   0,   0,   0,   0,   0,   0,   0,   0,   0,   0,\n",
       "         0,   0,   0,   0,   0,   0,   0,   0,   0,   0,   0,   0,   0,\n",
       "         0,   0,   0,   0,   0,   0,   0,   0,   0,   0,   0,   0,   0,\n",
       "         0,   0,   0,   0,   0,   0,   0,   0,   0,   0,   0,   0,   0,\n",
       "         0,   0,   0,   0,   0,   0,   0,   0,   0,   0,   0,   0,   0,\n",
       "         0,   0,   0,   0,   0,   0,   0,   0,   0,   0,   0,   0,   0,\n",
       "         0,   0,   0,   0,   0,   0,   0,   0,   0,   0,   0,   0,   0,\n",
       "         0,   0,   0,   0,   0,   0,   0,   0,   0,   0,   0,   0,   0,\n",
       "         0,   0,   0,   0,   0,   0,   0,   0,   0,   0,   0,   0,   0,\n",
       "         0,   0,   0,   0,   0,   0,   0,   0,   0,   0,   0,   0,   0,\n",
       "         0,   0,   0,   0,   0,   0,   0,   0,   0,   3,  18,  18,  18,\n",
       "       126, 136, 175,  26, 166, 255, 247, 127,   0,   0,   0,   0,   0,\n",
       "         0,   0,   0,   0,   0,   0,   0,  30,  36,  94, 154, 170, 253,\n",
       "       253, 253, 253, 253, 225, 172, 253, 242, 195,  64,   0,   0,   0,\n",
       "         0,   0,   0,   0,   0,   0,   0,   0,  49, 238, 253, 253, 253,\n",
       "       253, 253, 253, 253, 253, 251,  93,  82,  82,  56,  39,   0,   0,\n",
       "         0,   0,   0,   0,   0,   0,   0,   0,   0,   0,  18, 219, 253,\n",
       "       253, 253, 253, 253, 198, 182, 247, 241,   0,   0,   0,   0,   0,\n",
       "         0,   0,   0,   0,   0,   0,   0,   0,   0,   0,   0,   0,   0,\n",
       "        80, 156, 107, 253, 253, 205,  11,   0,  43, 154,   0,   0,   0,\n",
       "         0,   0,   0,   0,   0,   0,   0,   0,   0,   0,   0,   0,   0,\n",
       "         0,   0,   0,  14,   1, 154, 253,  90,   0,   0,   0,   0,   0,\n",
       "         0,   0,   0,   0,   0,   0,   0,   0,   0,   0,   0,   0,   0,\n",
       "         0,   0,   0,   0,   0,   0,   0, 139, 253, 190,   2,   0,   0,\n",
       "         0,   0,   0,   0,   0,   0,   0,   0,   0,   0,   0,   0,   0,\n",
       "         0,   0,   0,   0,   0,   0,   0,   0,   0,  11, 190, 253,  70,\n",
       "         0,   0,   0,   0,   0,   0,   0,   0,   0,   0,   0,   0,   0,\n",
       "         0,   0,   0,   0,   0,   0,   0,   0,   0,   0,   0,   0,  35,\n",
       "       241, 225, 160, 108,   1,   0,   0,   0,   0,   0,   0,   0,   0,\n",
       "         0,   0,   0,   0,   0,   0,   0,   0,   0,   0,   0,   0,   0,\n",
       "         0,   0,  81, 240, 253, 253, 119,  25,   0,   0,   0,   0,   0,\n",
       "         0,   0,   0,   0,   0,   0,   0,   0,   0,   0,   0,   0,   0,\n",
       "         0,   0,   0,   0,   0,  45, 186, 253, 253, 150,  27,   0,   0,\n",
       "         0,   0,   0,   0,   0,   0,   0,   0,   0,   0,   0,   0,   0,\n",
       "         0,   0,   0,   0,   0,   0,   0,   0,  16,  93, 252, 253, 187,\n",
       "         0,   0,   0,   0,   0,   0,   0,   0,   0,   0,   0,   0,   0,\n",
       "         0,   0,   0,   0,   0,   0,   0,   0,   0,   0,   0,   0, 249,\n",
       "       253, 249,  64,   0,   0,   0,   0,   0,   0,   0,   0,   0,   0,\n",
       "         0,   0,   0,   0,   0,   0,   0,   0,   0,   0,   0,  46, 130,\n",
       "       183, 253, 253, 207,   2,   0,   0,   0,   0,   0,   0,   0,   0,\n",
       "         0,   0,   0,   0,   0,   0,   0,   0,   0,   0,   0,  39, 148,\n",
       "       229, 253, 253, 253, 250, 182,   0,   0,   0,   0,   0,   0,   0,\n",
       "         0,   0,   0,   0,   0,   0,   0,   0,   0,   0,   0,  24, 114,\n",
       "       221, 253, 253, 253, 253, 201,  78,   0,   0,   0,   0,   0,   0,\n",
       "         0,   0,   0,   0,   0,   0,   0,   0,   0,   0,   0,  23,  66,\n",
       "       213, 253, 253, 253, 253, 198,  81,   2,   0,   0,   0,   0,   0,\n",
       "         0,   0,   0,   0,   0,   0,   0,   0,   0,   0,   0,  18, 171,\n",
       "       219, 253, 253, 253, 253, 195,  80,   9,   0,   0,   0,   0,   0,\n",
       "         0,   0,   0,   0,   0,   0,   0,   0,   0,   0,   0,  55, 172,\n",
       "       226, 253, 253, 253, 253, 244, 133,  11,   0,   0,   0,   0,   0,\n",
       "         0,   0,   0,   0,   0,   0,   0,   0,   0,   0,   0,   0,   0,\n",
       "       136, 253, 253, 253, 212, 135, 132,  16,   0,   0,   0,   0,   0,\n",
       "         0,   0,   0,   0,   0,   0,   0,   0,   0,   0,   0,   0,   0,\n",
       "         0,   0,   0,   0,   0,   0,   0,   0,   0,   0,   0,   0,   0,\n",
       "         0,   0,   0,   0,   0,   0,   0,   0,   0,   0,   0,   0,   0,\n",
       "         0,   0,   0,   0,   0,   0,   0,   0,   0,   0,   0,   0,   0,\n",
       "         0,   0,   0,   0,   0,   0,   0,   0,   0,   0,   0,   0,   0,\n",
       "         0,   0,   0,   0,   0,   0,   0,   0,   0,   0,   0,   0,   0,\n",
       "         0,   0,   0,   0,   0,   0,   0,   0,   0,   0,   0,   0,   0,\n",
       "         0,   0,   0,   0])"
      ]
     },
     "execution_count": 33,
     "metadata": {},
     "output_type": "execute_result"
    }
   ],
   "source": [
    "x_train_all[0]"
   ]
  },
  {
   "cell_type": "code",
   "execution_count": 14,
   "metadata": {},
   "outputs": [],
   "source": [
    "# save sample for testing\n",
    "# np.savetxt(fname='x_test0_ylabel7.txt', X=[x_test[0]], delimiter= ', ', fmt='%1.2f') "
   ]
  },
  {
   "cell_type": "code",
   "execution_count": 34,
   "metadata": {},
   "outputs": [
    {
     "data": {
      "text/plain": [
       "(60000,)"
      ]
     },
     "execution_count": 34,
     "metadata": {},
     "output_type": "execute_result"
    }
   ],
   "source": [
    "y_train_all.shape"
   ]
  },
  {
   "cell_type": "code",
   "execution_count": 35,
   "metadata": {},
   "outputs": [
    {
     "data": {
      "text/plain": [
       "(10000, 784)"
      ]
     },
     "execution_count": 35,
     "metadata": {},
     "output_type": "execute_result"
    }
   ],
   "source": [
    "x_test.shape"
   ]
  },
  {
   "cell_type": "code",
   "execution_count": 36,
   "metadata": {},
   "outputs": [
    {
     "data": {
      "text/plain": [
       "array([5, 0, 4, 1, 9])"
      ]
     },
     "execution_count": 36,
     "metadata": {},
     "output_type": "execute_result"
    }
   ],
   "source": [
    "y_train_all[:5]"
   ]
  },
  {
   "cell_type": "markdown",
   "metadata": {},
   "source": [
    "# Data Preprocessing"
   ]
  },
  {
   "cell_type": "code",
   "execution_count": 37,
   "metadata": {},
   "outputs": [],
   "source": [
    "def copy_x():\n",
    "    x_tr = x_train_all.copy()\n",
    "    x_te = x_test.copy()\n",
    "    return x_tr, x_te\n",
    "\n",
    "def copy_y():\n",
    "    y_tr = y_train_all.copy()\n",
    "    y_te = y_test.copy()\n",
    "    return y_tr, y_te\n"
   ]
  },
  {
   "cell_type": "code",
   "execution_count": 38,
   "metadata": {},
   "outputs": [],
   "source": [
    "# Re-scale\n",
    "x_train_all, x_test = copy_x()\n",
    "x_train_all, x_test = x_train_all / 255.0, x_test / 255.0"
   ]
  },
  {
   "cell_type": "markdown",
   "metadata": {},
   "source": [
    "#### Convert target values to one-hot encoding\n",
    "\n",
    "manual one-hot-encoding: we create an identity matrix where size (10 x 10) is equal to the number of classes (1 for each digit, i.e. 10). We then\n",
    "match each y-value with the corresponding row from the ID matrix, i.e. the value '7' will result in row nr. 7 from the ID matrix --> it will have zeros in every column except the 7th, where the value will be 1.\n"
   ]
  },
  {
   "cell_type": "code",
   "execution_count": null,
   "metadata": {},
   "outputs": [],
   "source": [
    "y_train_all, y_test = copy_y()\n",
    "\n",
    "y_train_all = np.eye(NR_CLASSES)[y_train_all]\n",
    "y_test = np.eye(NR_CLASSES)[y_test]\n",
    "\n",
    "print(y_train_all.shape)\n",
    "print(y_test.shape)"
   ]
  },
  {
   "cell_type": "markdown",
   "metadata": {},
   "source": [
    "### Create validation dataset from training data"
   ]
  },
  {
   "cell_type": "code",
   "execution_count": 45,
   "metadata": {},
   "outputs": [],
   "source": [
    "X_train, X_val, y_train, y_val = train_test_split(x_train_all, \n",
    "                                                  y_train_all, \n",
    "                                                  test_size=1/6, \n",
    "                                                  random_state=42)\n",
    "\n",
    "print(X_train.shape)\n",
    "print(X_val.shape)"
   ]
  },
  {
   "cell_type": "markdown",
   "metadata": {
    "collapsed": true,
    "jupyter": {
     "outputs_hidden": true
    }
   },
   "source": [
    "# Setup Tensorflow Graph"
   ]
  },
  {
   "cell_type": "markdown",
   "metadata": {},
   "source": [
    "### Neural Network Architecture"
   ]
  },
  {
   "cell_type": "code",
   "execution_count": 50,
   "metadata": {},
   "outputs": [],
   "source": [
    "from tensorflow.keras import Sequential\n",
    "from tensorflow.keras.layers import Dense, Dropout\n",
    "\n",
    "# define hyperparameters\n",
    "nr_epochs = 50\n",
    "learning_rate = 1e-3\n",
    "\n",
    "n_hidden1 = 512\n",
    "n_hidden2 = 64\n",
    "\n",
    "\n",
    "# setup model\n",
    "model = Sequential([\n",
    "    # First hidden layer with 512 units and ReLU activation\n",
    "    Dense(n_hidden1, activation='relu', input_shape=(TOTAL_INPUTS,), name='layer_1'),\n",
    "    \n",
    "    # Dropout layer with 20% drop rate\n",
    "    Dropout(rate=0.2, name='dropout_layer'),\n",
    "    \n",
    "    # Second hidden layer with 64 units and ReLU activation\n",
    "    Dense(n_hidden2, activation='relu', name='layer_2'),\n",
    "    \n",
    "    # Output layer with NR_CLASSES units and softmax activation\n",
    "    Dense(NR_CLASSES, activation='softmax', name='out')\n",
    "])"
   ]
  },
  {
   "cell_type": "markdown",
   "metadata": {},
   "source": [
    "# Tensorboard Setup"
   ]
  },
  {
   "cell_type": "code",
   "execution_count": 51,
   "metadata": {},
   "outputs": [],
   "source": [
    "model_name = f'{n_hidden1}-DO-{n_hidden2} LR{learning_rate} E{nr_epochs}'\n",
    "folder_name = f'{model_name} at {strftime(\"%H_%M\")}'\n",
    "directory = os.path.join(LOGGING_PATH, folder_name)\n",
    "abs_path = os.path.abspath(directory)\n",
    "os.makedirs(abs_path, exist_ok=True)"
   ]
  },
  {
   "cell_type": "code",
   "execution_count": 52,
   "metadata": {},
   "outputs": [],
   "source": [
    "model.compile(optimizer=tf.keras.optimizers.Adam(learning_rate),\n",
    "              loss='categorical_crossentropy',\n",
    "              metrics=['accuracy'])\n"
   ]
  },
  {
   "cell_type": "code",
   "execution_count": 53,
   "metadata": {},
   "outputs": [
    {
     "data": {
      "image/png": "[encoded data removed]",
      "text/plain": [
       "<IPython.core.display.Image object>"
      ]
     },
     "execution_count": 53,
     "metadata": {},
     "output_type": "execute_result"
    }
   ],
   "source": [
    "from keras.utils import plot_model\n",
    "tf.keras.utils.plot_model(model, show_shapes=True)"
   ]
  },
  {
   "cell_type": "markdown",
   "metadata": {},
   "source": [
    "# Run Session"
   ]
  },
  {
   "cell_type": "code",
   "execution_count": 54,
   "metadata": {
    "scrolled": true
   },
   "outputs": [],
   "source": [
    "from tensorflow.keras.callbacks import TensorBoard\n",
    "\n",
    "# Define TensorBoard callback\n",
    "tensorboard_callback = TensorBoard(log_dir=abs_path, \n",
    "                                   write_graph= True,\n",
    "                                   write_images= True,\n",
    "                                   histogram_freq=1)\n"
   ]
  },
  {
   "cell_type": "markdown",
   "metadata": {},
   "source": [
    "### Train Model"
   ]
  },
  {
   "cell_type": "code",
   "execution_count": 56,
   "metadata": {},
   "outputs": [
    {
     "name": "stdout",
     "output_type": "stream",
     "text": [
      "Epoch 1/50\n",
      "50/50 [==============================] - 2s 26ms/step - loss: 0.6469 - accuracy: 0.8207 - val_loss: 0.2472 - val_accuracy: 0.9293\n",
      "Epoch 2/50\n",
      "50/50 [==============================] - 1s 17ms/step - loss: 0.2261 - accuracy: 0.9343 - val_loss: 0.1742 - val_accuracy: 0.9502\n",
      "Epoch 3/50\n",
      "50/50 [==============================] - 1s 17ms/step - loss: 0.1644 - accuracy: 0.9529 - val_loss: 0.1370 - val_accuracy: 0.9603\n",
      "Epoch 4/50\n",
      "50/50 [==============================] - 1s 19ms/step - loss: 0.1296 - accuracy: 0.9619 - val_loss: 0.1143 - val_accuracy: 0.9675\n",
      "Epoch 5/50\n",
      "50/50 [==============================] - 1s 18ms/step - loss: 0.1050 - accuracy: 0.9702 - val_loss: 0.1006 - val_accuracy: 0.9705\n",
      "Epoch 6/50\n",
      "50/50 [==============================] - 1s 19ms/step - loss: 0.0892 - accuracy: 0.9735 - val_loss: 0.0898 - val_accuracy: 0.9730\n",
      "Epoch 7/50\n",
      "50/50 [==============================] - 1s 22ms/step - loss: 0.0756 - accuracy: 0.9779 - val_loss: 0.0816 - val_accuracy: 0.9742\n",
      "Epoch 8/50\n",
      "50/50 [==============================] - 1s 17ms/step - loss: 0.0633 - accuracy: 0.9816 - val_loss: 0.0769 - val_accuracy: 0.9764\n",
      "Epoch 9/50\n",
      "50/50 [==============================] - 1s 22ms/step - loss: 0.0549 - accuracy: 0.9839 - val_loss: 0.0737 - val_accuracy: 0.9772\n",
      "Epoch 10/50\n",
      "50/50 [==============================] - 1s 18ms/step - loss: 0.0493 - accuracy: 0.9851 - val_loss: 0.0695 - val_accuracy: 0.9784\n",
      "Epoch 11/50\n",
      "50/50 [==============================] - 1s 19ms/step - loss: 0.0417 - accuracy: 0.9885 - val_loss: 0.0661 - val_accuracy: 0.9808\n",
      "Epoch 12/50\n",
      "50/50 [==============================] - 1s 18ms/step - loss: 0.0367 - accuracy: 0.9893 - val_loss: 0.0651 - val_accuracy: 0.9804\n",
      "Epoch 13/50\n",
      "50/50 [==============================] - 1s 18ms/step - loss: 0.0328 - accuracy: 0.9901 - val_loss: 0.0637 - val_accuracy: 0.9808\n",
      "Epoch 14/50\n",
      "50/50 [==============================] - 1s 18ms/step - loss: 0.0289 - accuracy: 0.9917 - val_loss: 0.0637 - val_accuracy: 0.9814\n",
      "Epoch 15/50\n",
      "50/50 [==============================] - 1s 19ms/step - loss: 0.0253 - accuracy: 0.9931 - val_loss: 0.0683 - val_accuracy: 0.9801\n",
      "Epoch 16/50\n",
      "50/50 [==============================] - 1s 19ms/step - loss: 0.0239 - accuracy: 0.9934 - val_loss: 0.0603 - val_accuracy: 0.9812\n",
      "Epoch 17/50\n",
      "50/50 [==============================] - 1s 19ms/step - loss: 0.0213 - accuracy: 0.9941 - val_loss: 0.0602 - val_accuracy: 0.9823\n",
      "Epoch 18/50\n",
      "50/50 [==============================] - 1s 21ms/step - loss: 0.0188 - accuracy: 0.9952 - val_loss: 0.0632 - val_accuracy: 0.9818\n",
      "Epoch 19/50\n",
      "50/50 [==============================] - 1s 20ms/step - loss: 0.0170 - accuracy: 0.9954 - val_loss: 0.0630 - val_accuracy: 0.9813\n",
      "Epoch 20/50\n",
      "50/50 [==============================] - 1s 19ms/step - loss: 0.0152 - accuracy: 0.9958 - val_loss: 0.0631 - val_accuracy: 0.9829\n",
      "Epoch 21/50\n",
      "50/50 [==============================] - 1s 19ms/step - loss: 0.0150 - accuracy: 0.9960 - val_loss: 0.0618 - val_accuracy: 0.9831\n",
      "Epoch 22/50\n",
      "50/50 [==============================] - 1s 19ms/step - loss: 0.0126 - accuracy: 0.9967 - val_loss: 0.0622 - val_accuracy: 0.9834\n",
      "Epoch 23/50\n",
      "50/50 [==============================] - 1s 19ms/step - loss: 0.0123 - accuracy: 0.9968 - val_loss: 0.0628 - val_accuracy: 0.9827\n",
      "Epoch 24/50\n",
      "50/50 [==============================] - 1s 19ms/step - loss: 0.0099 - accuracy: 0.9979 - val_loss: 0.0627 - val_accuracy: 0.9837\n",
      "Epoch 25/50\n",
      "50/50 [==============================] - 1s 20ms/step - loss: 0.0095 - accuracy: 0.9972 - val_loss: 0.0630 - val_accuracy: 0.9836\n",
      "Epoch 26/50\n",
      "50/50 [==============================] - 1s 19ms/step - loss: 0.0092 - accuracy: 0.9976 - val_loss: 0.0648 - val_accuracy: 0.9825\n",
      "Epoch 27/50\n",
      "50/50 [==============================] - 1s 20ms/step - loss: 0.0091 - accuracy: 0.9976 - val_loss: 0.0646 - val_accuracy: 0.9828\n",
      "Epoch 28/50\n",
      "50/50 [==============================] - 1s 19ms/step - loss: 0.0076 - accuracy: 0.9982 - val_loss: 0.0620 - val_accuracy: 0.9839\n",
      "Epoch 29/50\n",
      "50/50 [==============================] - 1s 19ms/step - loss: 0.0078 - accuracy: 0.9979 - val_loss: 0.0665 - val_accuracy: 0.9835\n",
      "Epoch 30/50\n",
      "50/50 [==============================] - 1s 20ms/step - loss: 0.0073 - accuracy: 0.9981 - val_loss: 0.0654 - val_accuracy: 0.9835\n",
      "Epoch 31/50\n",
      "50/50 [==============================] - 1s 22ms/step - loss: 0.0073 - accuracy: 0.9982 - val_loss: 0.0652 - val_accuracy: 0.9840\n",
      "Epoch 32/50\n",
      "50/50 [==============================] - 1s 22ms/step - loss: 0.0063 - accuracy: 0.9987 - val_loss: 0.0625 - val_accuracy: 0.9849\n",
      "Epoch 33/50\n",
      "50/50 [==============================] - 1s 23ms/step - loss: 0.0053 - accuracy: 0.9991 - val_loss: 0.0654 - val_accuracy: 0.9837\n",
      "Epoch 34/50\n",
      "50/50 [==============================] - 1s 22ms/step - loss: 0.0053 - accuracy: 0.9986 - val_loss: 0.0646 - val_accuracy: 0.9837\n",
      "Epoch 35/50\n",
      "50/50 [==============================] - 1s 22ms/step - loss: 0.0059 - accuracy: 0.9986 - val_loss: 0.0647 - val_accuracy: 0.9830\n",
      "Epoch 36/50\n",
      "50/50 [==============================] - 1s 22ms/step - loss: 0.0053 - accuracy: 0.9988 - val_loss: 0.0647 - val_accuracy: 0.9839\n",
      "Epoch 37/50\n",
      "50/50 [==============================] - 1s 23ms/step - loss: 0.0049 - accuracy: 0.9988 - val_loss: 0.0661 - val_accuracy: 0.9838\n",
      "Epoch 38/50\n",
      "50/50 [==============================] - 1s 21ms/step - loss: 0.0054 - accuracy: 0.9985 - val_loss: 0.0658 - val_accuracy: 0.9836\n",
      "Epoch 39/50\n",
      "50/50 [==============================] - 1s 21ms/step - loss: 0.0052 - accuracy: 0.9987 - val_loss: 0.0677 - val_accuracy: 0.9837\n",
      "Epoch 40/50\n",
      "50/50 [==============================] - 1s 26ms/step - loss: 0.0047 - accuracy: 0.9989 - val_loss: 0.0688 - val_accuracy: 0.9839\n",
      "Epoch 41/50\n",
      "50/50 [==============================] - 1s 22ms/step - loss: 0.0039 - accuracy: 0.9991 - val_loss: 0.0706 - val_accuracy: 0.9840\n",
      "Epoch 42/50\n",
      "50/50 [==============================] - 1s 23ms/step - loss: 0.0038 - accuracy: 0.9992 - val_loss: 0.0688 - val_accuracy: 0.9855\n",
      "Epoch 43/50\n",
      "50/50 [==============================] - 1s 22ms/step - loss: 0.0036 - accuracy: 0.9991 - val_loss: 0.0681 - val_accuracy: 0.9839\n",
      "Epoch 44/50\n",
      "50/50 [==============================] - 1s 23ms/step - loss: 0.0039 - accuracy: 0.9991 - val_loss: 0.0681 - val_accuracy: 0.9837\n",
      "Epoch 45/50\n",
      "50/50 [==============================] - 1s 23ms/step - loss: 0.0028 - accuracy: 0.9994 - val_loss: 0.0688 - val_accuracy: 0.9849\n",
      "Epoch 46/50\n",
      "50/50 [==============================] - 1s 21ms/step - loss: 0.0036 - accuracy: 0.9991 - val_loss: 0.0680 - val_accuracy: 0.9845\n",
      "Epoch 47/50\n",
      "50/50 [==============================] - 1s 21ms/step - loss: 0.0037 - accuracy: 0.9990 - val_loss: 0.0686 - val_accuracy: 0.9854\n",
      "Epoch 48/50\n",
      "50/50 [==============================] - 1s 22ms/step - loss: 0.0040 - accuracy: 0.9988 - val_loss: 0.0743 - val_accuracy: 0.9834\n",
      "Epoch 49/50\n",
      "50/50 [==============================] - 1s 23ms/step - loss: 0.0040 - accuracy: 0.9989 - val_loss: 0.0676 - val_accuracy: 0.9842\n",
      "Epoch 50/50\n",
      "50/50 [==============================] - 1s 22ms/step - loss: 0.0035 - accuracy: 0.9989 - val_loss: 0.0708 - val_accuracy: 0.9841\n",
      "Done training!\n"
     ]
    }
   ],
   "source": [
    "# Defining the batch size\n",
    "size_of_batch = 1000\n",
    "\n",
    "# Fit the model using the training data\n",
    "# history = model.fit(\n",
    "model.fit(\n",
    "    X_train, y_train,\n",
    "    batch_size=size_of_batch,\n",
    "    epochs=nr_epochs,\n",
    "    verbose=1,\n",
    "    validation_data=(X_val, y_val),\n",
    "    callbacks=[tensorboard_callback]\n",
    ")\n",
    "\n",
    "print('Done training!')"
   ]
  },
  {
   "cell_type": "code",
   "execution_count": 57,
   "metadata": {},
   "outputs": [],
   "source": [
    "%load_ext tensorboard "
   ]
  },
  {
   "cell_type": "code",
   "execution_count": 58,
   "metadata": {
    "collapsed": true
   },
   "outputs": [
    {
     "data": {
      "text/html": [
       "\n",
       "      <iframe id=\"tensorboard-frame-8c487bed6be6d4b3\" width=\"100%\" height=\"800\" frameborder=\"0\">\n",
       "      </iframe>\n",
       "      <script>\n",
       "        (function() {\n",
       "          const frame = document.getElementById(\"tensorboard-frame-8c487bed6be6d4b3\");\n",
       "          const url = new URL(\"/\", window.location);\n",
       "          const port = 6006;\n",
       "          if (port) {\n",
       "            url.port = port;\n",
       "          }\n",
       "          frame.src = url;\n",
       "        })();\n",
       "      </script>\n",
       "    "
      ],
      "text/plain": [
       "<IPython.core.display.HTML object>"
      ]
     },
     "metadata": {},
     "output_type": "display_data"
    }
   ],
   "source": [
    "# %tensorboard --logdir=\"{abs_path}\"   # path variable needs to be in brackets and quotes"
   ]
  },
  {
   "cell_type": "markdown",
   "metadata": {},
   "source": [
    "# Testing and Evaluation"
   ]
  },
  {
   "cell_type": "code",
   "execution_count": 77,
   "metadata": {},
   "outputs": [
    {
     "data": {
      "image/png": "[encoded data removed]",
      "text/plain": [
       "<PIL.PngImagePlugin.PngImageFile image mode=RGBA size=28x28>"
      ]
     },
     "execution_count": 77,
     "metadata": {},
     "output_type": "execute_result"
    }
   ],
   "source": [
    "img = Image.open('MNIST/test_img.png')\n",
    "img"
   ]
  },
  {
   "cell_type": "code",
   "execution_count": 78,
   "metadata": {},
   "outputs": [
    {
     "name": "stdout",
     "output_type": "stream",
     "text": [
      "1/1 [==============================] - 0s 36ms/step\n",
      "Prediction for test image is [2]\n"
     ]
    }
   ],
   "source": [
    "img = Image.open('MNIST/test_img.png')\n",
    "bw = img.convert('L')   \n",
    "img_array = np.invert(bw)  \n",
    "test_img = img_array.ravel().reshape(1, -1) \n",
    "prediction = model.predict(test_img)\n",
    "predicted_class = np.argmax(prediction, axis=1)  \n",
    "\n",
    "print(f'Prediction for test image is {predicted_class}')"
   ]
  },
  {
   "cell_type": "code",
   "execution_count": 63,
   "metadata": {},
   "outputs": [
    {
     "name": "stdout",
     "output_type": "stream",
     "text": [
      "1/1 [==============================] - 0s 25ms/step\n",
      "Prediction for test image is [2]\n"
     ]
    }
   ],
   "source": [
    "img = Image.open('MNIST/test_img.png')\n",
    "\n",
    "# the following two lines can be useful preprocessing and improve accuracy but may not always be strictly necessary\n",
    "bw = img.convert('L')   \n",
    "img_array = np.invert(bw)  \n",
    "\n",
    "# required input shape - flatten into 1D array and then reshape into 2D array with one row and as many columns as needed (indicated by -1)\n",
    "# np.ravel() does same thing as: for row in n_dimensional_array, 1_dimensional_array.extend(row)\n",
    "test_img = img_array.ravel().reshape(1, -1) \n",
    "\n",
    "# make prediction\n",
    "prediction = model.predict(test_img)\n",
    "predicted_class = np.argmax(prediction, axis=1)  # argmax returns array column with highest value\n",
    "\n",
    "print(f'Prediction for test image is {predicted_class}')"
   ]
  },
  {
   "cell_type": "code",
   "execution_count": 61,
   "metadata": {},
   "outputs": [
    {
     "name": "stdout",
     "output_type": "stream",
     "text": [
      "313/313 [==============================] - 0s 1ms/step - loss: 0.0782 - accuracy: 0.9813\n",
      "Accuracy on test set is 98.13%\n"
     ]
    }
   ],
   "source": [
    "# test accuracy using test set\n",
    "test_loss, test_accuracy = model.evaluate(x_test, y_test)\n",
    "print(f'Accuracy on test set is {test_accuracy:0.2%}')"
   ]
  },
  {
   "cell_type": "markdown",
   "metadata": {
    "collapsed": true,
    "jupyter": {
     "outputs_hidden": true
    }
   },
   "source": [
    "# Save the model"
   ]
  },
  {
   "cell_type": "code",
   "execution_count": 75,
   "metadata": {},
   "outputs": [
    {
     "name": "stdout",
     "output_type": "stream",
     "text": [
      "INFO:tensorflow:Assets written to: tf_handwriting_recog_model 2023-08-31\\assets\n"
     ]
    }
   ],
   "source": [
    "# Save the model\n",
    "model.save(f'tf_handwriting_recog_model_{str(date.today())}')"
   ]
  },
  {
   "cell_type": "code",
   "execution_count": null,
   "metadata": {},
   "outputs": [],
   "source": [
    "# Load the model\n",
    "# new_model = tf.keras.models.load_model('tf_handwriting_recog_model_2023-xx-xx')"
   ]
  },
  {
   "cell_type": "code",
   "execution_count": null,
   "metadata": {},
   "outputs": [],
   "source": [
    "# b3.eval(sess)"
   ]
  }
 ],
 "metadata": {
  "kernelspec": {
   "display_name": "Python 3 (ipykernel)",
   "language": "python",
   "name": "python3"
  },
  "language_info": {
   "codemirror_mode": {
    "name": "ipython",
    "version": 3
   },
   "file_extension": ".py",
   "mimetype": "text/x-python",
   "name": "python",
   "nbconvert_exporter": "python",
   "pygments_lexer": "ipython3",
   "version": "3.9.17"
  }
 },
 "nbformat": 4,
 "nbformat_minor": 4
}
